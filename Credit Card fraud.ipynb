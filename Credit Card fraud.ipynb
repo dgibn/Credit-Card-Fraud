{
 "cells": [
  {
   "cell_type": "code",
   "execution_count": 3,
   "id": "657972df",
   "metadata": {},
   "outputs": [],
   "source": [
    "import numpy as np\n",
    "import pandas as pd\n",
    "import os\n",
    "import matplotlib.pyplot as plt\n",
    "import seaborn as sns\n",
    "from sklearn.model_selection import train_test_split , GridSearchCV\n",
    "from sklearn import metrics\n",
    "from sklearn.metrics import accuracy_score, f1_score,confusion_matrix\n",
    "from sklearn.preprocessing import StandardScaler \n",
    "from sklearn.linear_model import LogisticRegression,LinearRegression\n",
    "from sklearn.cluster import KMeans\n",
    "from sklearn.tree import DecisionTreeClassifier,DecisionTreeRegressor\n",
    "from sklearn.neighbors import KNeighborsClassifier\n",
    "from sklearn.svm import SVC\n",
    "from sklearn.preprocessing import MinMaxScaler \n",
    "os.chdir(\"/home/divs/Desktop\")"
   ]
  },
  {
   "cell_type": "code",
   "execution_count": 10,
   "id": "2aff717e",
   "metadata": {},
   "outputs": [],
   "source": [
    "data=pd.read_csv(\"creditcard.csv\")\n",
    "sc=StandardScaler()\n",
    "df=pd.DataFrame(data)\n",
    "total=len(df)\n",
    "normal=len(df[df.Class==0])\n",
    "fraud=len(df[df.Class==1])\n",
    "amount=data[\"Amount\"].values\n",
    "\n",
    "data[\"Amount\"]=sc.fit_transform(amount.reshape(-1,1))\n",
    "data.drop([\"Time\"],inplace=True,axis=1)\n",
    "data.drop_duplicates(inplace=True)\n",
    "\n",
    "y=data[\"Class\"].values\n",
    "\n",
    "data.drop([\"Class\"],axis=1,inplace=True)\n",
    "x=data.values\n",
    "\n",
    "train_x,test_x,train_y,test_y=train_test_split(x,y,test_size=0.1,random_state=2)\n"
   ]
  },
  {
   "cell_type": "code",
   "execution_count": 5,
   "id": "41661dcf",
   "metadata": {},
   "outputs": [
    {
     "name": "stdout",
     "output_type": "stream",
     "text": [
      "0.7710843373493975\n"
     ]
    }
   ],
   "source": [
    "svm=SVC()\n",
    "svm.fit(train_x,train_y)\n",
    "y_test=svm.predict(test_x)\n",
    "print(f1_score(test_y,y_test))\n"
   ]
  },
  {
   "cell_type": "code",
   "execution_count": 6,
   "id": "faad08a4",
   "metadata": {},
   "outputs": [
    {
     "name": "stdout",
     "output_type": "stream",
     "text": [
      "0.8172043010752689\n"
     ]
    }
   ],
   "source": [
    "dt=DecisionTreeClassifier()\n",
    "dt.fit(train_x,train_y)\n",
    "y_test=dt.predict(test_x)\n",
    "print(f1_score(test_y,y_test))"
   ]
  },
  {
   "cell_type": "code",
   "execution_count": 7,
   "id": "5f181c67",
   "metadata": {},
   "outputs": [
    {
     "data": {
      "text/plain": [
       "<matplotlib.collections.PathCollection at 0x7fccfe9b5e40>"
      ]
     },
     "execution_count": 7,
     "metadata": {},
     "output_type": "execute_result"
    },
    {
     "data": {
      "image/png": "[encoded data removed]",
      "text/plain": [
       "<Figure size 640x480 with 1 Axes>"
      ]
     },
     "metadata": {},
     "output_type": "display_data"
    }
   ],
   "source": [
    "plt.scatter(y_test,test_y)"
   ]
  },
  {
   "cell_type": "code",
   "execution_count": 8,
   "id": "8f4bf17f",
   "metadata": {},
   "outputs": [
    {
     "name": "stdout",
     "output_type": "stream",
     "text": [
      "0.8444444444444444\n"
     ]
    }
   ],
   "source": [
    "n=7\n",
    "knn=KNeighborsClassifier(n_neighbors=n)\n",
    "knn.fit(train_x,train_y)\n",
    "y_test=knn.predict(test_x)\n",
    "print(f1_score(test_y,y_test))"
   ]
  },
  {
   "cell_type": "code",
   "execution_count": 12,
   "id": "36ff98f8",
   "metadata": {},
   "outputs": [
    {
     "name": "stdout",
     "output_type": "stream",
     "text": [
      "[[ 1.04450779e+00 -2.97787817e-01  1.06576898e+00 ... -3.02484263e-02\n",
      "  -1.42315628e-03 -2.04660510e-01]\n",
      " [ 1.12105101e+00  1.97439498e-03  6.17446900e-01 ... -1.31979045e-02\n",
      "   2.98779100e-03 -2.93258100e-01]\n",
      " [ 2.43050678e+00 -8.92127578e-01 -2.27506862e+00 ... -5.22545990e-02\n",
      "  -7.17691291e-02 -3.25242790e-01]\n",
      " ...\n",
      " [ 8.94493668e-01 -1.93718522e-01 -1.46533014e+00 ... -6.18507024e-02\n",
      "   4.25904449e-02  4.34353606e-01]\n",
      " [-5.32036689e-01  6.89165144e-01  7.23100150e-01 ...  4.09333767e-01\n",
      "   1.84336859e-01 -2.01302118e-01]\n",
      " [-1.30865194e+01  7.35214834e+00 -1.82565761e+01 ... -2.49830025e+00\n",
      "  -7.11066152e-01 -2.32047400e-01]]\n"
     ]
    },
    {
     "name": "stderr",
     "output_type": "stream",
     "text": [
      "/home/divs/.local/lib/python3.10/site-packages/sklearn/cluster/_kmeans.py:870: FutureWarning: The default value of `n_init` will change from 10 to 'auto' in 1.4. Set the value of `n_init` explicitly to suppress the warning\n",
      "  warnings.warn(\n"
     ]
    },
    {
     "ename": "NameError",
     "evalue": "name 'text_x' is not defined",
     "output_type": "error",
     "traceback": [
      "\u001b[0;31m---------------------------------------------------------------------------\u001b[0m",
      "\u001b[0;31mNameError\u001b[0m                                 Traceback (most recent call last)",
      "Cell \u001b[0;32mIn[12], line 4\u001b[0m\n\u001b[1;32m      2\u001b[0m kmeans\u001b[38;5;241m=\u001b[39mKMeans(n_clusters\u001b[38;5;241m=\u001b[39m\u001b[38;5;241m2\u001b[39m,init\u001b[38;5;241m=\u001b[39m\u001b[38;5;124m'\u001b[39m\u001b[38;5;124mk-means++\u001b[39m\u001b[38;5;124m'\u001b[39m,random_state\u001b[38;5;241m=\u001b[39m\u001b[38;5;241m42\u001b[39m)\n\u001b[1;32m      3\u001b[0m kmeans\u001b[38;5;241m.\u001b[39mfit(train_x,train_y)\n\u001b[0;32m----> 4\u001b[0m y_test\u001b[38;5;241m=\u001b[39mkmeans\u001b[38;5;241m.\u001b[39mpredict(\u001b[43mtext_x\u001b[49m)\n\u001b[1;32m      5\u001b[0m \u001b[38;5;28mprint\u001b[39m(f1_score(text_y,y_test))\n",
      "\u001b[0;31mNameError\u001b[0m: name 'text_x' is not defined"
     ]
    }
   ],
   "source": [
    "print(test_x)\n",
    "kmeans=KMeans(n_clusters=2,init='k-means++',random_state=42)\n",
    "kmeans.fit(train_x,train_y)\n",
    "y_test=kmeans.predict(text_x)\n",
    "print(f1_score(text_y,y_test))"
   ]
  },
  {
   "cell_type": "code",
   "execution_count": null,
   "id": "b8ac2dd9",
   "metadata": {},
   "outputs": [],
   "source": []
  }
 ],
 "metadata": {
  "kernelspec": {
   "display_name": "Python 3 (ipykernel)",
   "language": "python",
   "name": "python3"
  },
  "language_info": {
   "codemirror_mode": {
    "name": "ipython",
    "version": 3
   },
   "file_extension": ".py",
   "mimetype": "text/x-python",
   "name": "python",
   "nbconvert_exporter": "python",
   "pygments_lexer": "ipython3",
   "version": "3.10.7"
  }
 },
 "nbformat": 4,
 "nbformat_minor": 5
}
